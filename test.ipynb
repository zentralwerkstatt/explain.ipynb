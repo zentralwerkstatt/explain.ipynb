{
 "cells": [
  {
   "cell_type": "markdown",
   "metadata": {},
   "source": [
    "# Testing the model"
   ]
  },
  {
   "cell_type": "markdown",
   "metadata": {},
   "source": [
    "## Imports\n",
    "\n",
    "Please refer to the [README.md](README.md) for proper installation of the dependencies listed here."
   ]
  },
  {
   "cell_type": "code",
   "execution_count": null,
   "metadata": {},
   "outputs": [],
   "source": [
    "import warnings\n",
    "warnings.filterwarnings('ignore')\n",
    "\n",
    "import numpy as np\n",
    "\n",
    "import os\n",
    "from IPython.display import clear_output, Image, display\n",
    "import PIL.Image\n",
    "from tqdm import tqdm_notebook\n",
    "\n",
    "# from inception_v1 import preprocess_input\n",
    "from keras.applications.inception_v3 import preprocess_input\n",
    "\n",
    "from keras.models import load_model\n",
    "from keras.preprocessing.image import load_img, img_to_array, array_to_img"
   ]
  },
  {
   "cell_type": "markdown",
   "metadata": {},
   "source": [
    "## Settings\n",
    "\n",
    "- `model_file`: Which model to test\n",
    "- `size`: Size of the input image for the chosen architecture (InceptionV3: 299x299)"
   ]
  },
  {
   "cell_type": "code",
   "execution_count": null,
   "metadata": {},
   "outputs": [],
   "source": [
    "model_file = 'portrait-landscape-stilllife-v3-10.hdf5'\n",
    "size = (299, 299)"
   ]
  },
  {
   "cell_type": "markdown",
   "metadata": {},
   "source": [
    "## Prediction function\n",
    "\n",
    "This converts an image into a format that the model can process and computes the prediction score."
   ]
  },
  {
   "cell_type": "code",
   "execution_count": null,
   "metadata": {},
   "outputs": [],
   "source": [
    "def predict(img, model):\n",
    "    img = img.resize(size)\n",
    "    x = img_to_array(img)\n",
    "    x = np.expand_dims(x, axis=0)\n",
    "    x = preprocess_input(x)\n",
    "    preds = model.predict(x)\n",
    "    return preds[0]"
   ]
  },
  {
   "cell_type": "markdown",
   "metadata": {},
   "source": [
    "## Top-scoring images\n",
    "\n",
    "This finds the top-socring images in the whole dataset for a selected class."
   ]
  },
  {
   "cell_type": "code",
   "execution_count": null,
   "metadata": {},
   "outputs": [],
   "source": [
    "# Full image test on full dataset\n",
    "model = load_model(model_file)\n",
    "test_dir = 'wga'\n",
    "topn = np.zeros(shape=(10))\n",
    "score_to_file = {}\n",
    "class_to_test = 1\n",
    "\n",
    "for file in tqdm_notebook(os.listdir(test_dir)):\n",
    "    if not file.startswith('.'):\n",
    "        try: # BUG: one (?) file could not be cast into an array when using full dataset\n",
    "            img = load_img(test_dir + '/' + file)\n",
    "            img_array = img_to_array(img)\n",
    "        except:\n",
    "            break\n",
    "        preds = predict(img, model)\n",
    "        score = preds[class_to_test]\n",
    "        if score > topn[topn.argmin()]:\n",
    "            topn[topn.argmin()] = score\n",
    "            score_to_file[score] = file # Score is always unique!\n",
    "        \n",
    "topn = np.sort(topn)\n",
    "\n",
    "for n in range(topn.shape[0]):\n",
    "    score = topn[n]\n",
    "    file = score_to_file[score]\n",
    "    img = load_img(test_dir + '/' + file)\n",
    "    display(img)\n",
    "    print(file, score)"
   ]
  },
  {
   "cell_type": "markdown",
   "metadata": {},
   "source": [
    "## Score for single file\n",
    "\n",
    "This calculates the score for a single image file."
   ]
  },
  {
   "cell_type": "code",
   "execution_count": 9,
   "metadata": {},
   "outputs": [
    {
     "name": "stdout",
     "output_type": "stream",
     "text": [
      "[0.9816657  0.00819328 0.01014105]\n"
     ]
    }
   ],
   "source": [
    "# Score single file\n",
    "file = 'wga/cranach-lucas_y-16luther.jpg'\n",
    "img = load_img(file)\n",
    "img_array = img_to_array(img)\n",
    "print(predict(img, model))"
   ]
  }
 ],
 "metadata": {
  "kernelspec": {
   "display_name": "Python 3",
   "language": "python",
   "name": "python3"
  },
  "language_info": {
   "codemirror_mode": {
    "name": "ipython",
    "version": 3
   },
   "file_extension": ".py",
   "mimetype": "text/x-python",
   "name": "python",
   "nbconvert_exporter": "python",
   "pygments_lexer": "ipython3",
   "version": "3.6.4"
  }
 },
 "nbformat": 4,
 "nbformat_minor": 2
}
